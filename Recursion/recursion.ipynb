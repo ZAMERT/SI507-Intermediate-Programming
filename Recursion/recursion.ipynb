{
 "cells": [
  {
   "cell_type": "code",
   "execution_count": 1,
   "id": "8816db95",
   "metadata": {},
   "outputs": [],
   "source": [
    "import math"
   ]
  },
  {
   "cell_type": "code",
   "execution_count": 6,
   "id": "53f8b51e",
   "metadata": {},
   "outputs": [],
   "source": [
    "def change(amount, coins):\n",
    "    \"\"\"Return a non-negative integer indicating the minimum number of coins required to make up the given amount. \n",
    "\n",
    "    Parameters:\n",
    "        amount: int\n",
    "            a non-negative integer indicating the amount of change to be made\n",
    "        coins: list\n",
    "            a list of coin values\n",
    "            \n",
    "    Returns:\n",
    "        int:\n",
    "            a non-negative integer indicating the minimum number of coins required to make up the given amount.\n",
    "    \n",
    "    Examples:\n",
    "        >>> change(48, [1, 5, 10, 25, 50])\n",
    "        6\n",
    "        >>> change(48, [1, 7, 24, 42])\n",
    "        2\n",
    "        >>> change(35, [1, 3, 16, 30, 50])\n",
    "        3\n",
    "        >>> change(6, [4, 5, 9])\n",
    "        math.inf\n",
    "    \"\"\"\n",
    "    if amount == 0:\n",
    "        return 0\n",
    "    if amount < 0 or not coins:\n",
    "        return math.inf\n",
    "    \n",
    "    use_it = 1 + change(amount-coins[-1], coins)\n",
    "    lose_it = change(amount, coins[:-1])\n",
    "    \n",
    "    return min(use_it, lose_it)"
   ]
  },
  {
   "cell_type": "code",
   "execution_count": 7,
   "id": "6214b614",
   "metadata": {},
   "outputs": [
    {
     "data": {
      "text/plain": [
       "6"
      ]
     },
     "execution_count": 7,
     "metadata": {},
     "output_type": "execute_result"
    }
   ],
   "source": [
    "change(48, [1, 5, 10, 25, 50])"
   ]
  },
  {
   "cell_type": "code",
   "execution_count": 9,
   "id": "92f0a554",
   "metadata": {},
   "outputs": [
    {
     "data": {
      "text/plain": [
       "inf"
      ]
     },
     "execution_count": 9,
     "metadata": {},
     "output_type": "execute_result"
    }
   ],
   "source": [
    "change(6, [4, 5, 9])"
   ]
  },
  {
   "cell_type": "code",
   "execution_count": null,
   "id": "08115307",
   "metadata": {},
   "outputs": [],
   "source": [
    "def giveChange(amount, coins):\n",
    "    \"\"\"Return a list with the minimum number of coins(int) and  a list of the coins in the optimal solution.\n",
    "\n",
    "    Parameters:\n",
    "        amount: int\n",
    "            a non-negative integer indicating the amount of change to be made\n",
    "        coins: list\n",
    "            a list of coin values\n",
    "        \n",
    "    Returns:\n",
    "        list:\n",
    "            a list whose first member is the minimum number of coins(int) and whose second member is a list of the coins in the optimal solution.\n",
    "    \n",
    "    Examples:\n",
    "        >>> giveChange(48, [1, 5, 10, 25, 50])\n",
    "        [6, [25, 10, 10, 1, 1, 1]]\n",
    "        >>> giveChange(48, [1, 7, 24, 42])\n",
    "        [2, [24, 24]]\n",
    "        >>> giveChange(35, [1, 3, 16, 30, 50])\n",
    "        [3, [16, 16, 3]]\n",
    "        >>> giveChange(6, [4, 5, 9])\n",
    "        [math.inf, []]\n",
    "    \"\"\"\n",
    "    if amount == 0:\n",
    "        return [0, []]\n",
    "    if amount < 0 or not coins:\n",
    "        return [math.inf, []]\n",
    "    \n",
    "    use_it = giveChange(amount-coins[-1], coins)\n",
    "    lose_it = giveChange(amount, coins[:-1])\n",
    "    \n",
    "    use_count = 1 + use_it[0]\n",
    "    lose_count = lose_it[0]\n",
    "    \n",
    "    return [use_count, use_it[1] + [coins[-1]]] if use_count < lose_count else [lose_count, lose_it[1]]"
   ]
  },
  {
   "cell_type": "code",
   "execution_count": 16,
   "id": "ffd356ac",
   "metadata": {},
   "outputs": [
    {
     "ename": "AttributeError",
     "evalue": "'NoneType' object has no attribute 'append'",
     "output_type": "error",
     "traceback": [
      "\u001b[31m---------------------------------------------------------------------------\u001b[39m",
      "\u001b[31mAttributeError\u001b[39m                            Traceback (most recent call last)",
      "\u001b[36mCell\u001b[39m\u001b[36m \u001b[39m\u001b[32mIn[16]\u001b[39m\u001b[32m, line 1\u001b[39m\n\u001b[32m----> \u001b[39m\u001b[32m1\u001b[39m \u001b[43mgiveChange\u001b[49m\u001b[43m(\u001b[49m\u001b[32;43m48\u001b[39;49m\u001b[43m,\u001b[49m\u001b[43m \u001b[49m\u001b[43m[\u001b[49m\u001b[32;43m1\u001b[39;49m\u001b[43m,\u001b[49m\u001b[43m \u001b[49m\u001b[32;43m5\u001b[39;49m\u001b[43m,\u001b[49m\u001b[43m \u001b[49m\u001b[32;43m10\u001b[39;49m\u001b[43m,\u001b[49m\u001b[43m \u001b[49m\u001b[32;43m25\u001b[39;49m\u001b[43m,\u001b[49m\u001b[43m \u001b[49m\u001b[32;43m50\u001b[39;49m\u001b[43m]\u001b[49m\u001b[43m)\u001b[49m\n",
      "\u001b[36mCell\u001b[39m\u001b[36m \u001b[39m\u001b[32mIn[15]\u001b[39m\u001b[32m, line 30\u001b[39m, in \u001b[36mgiveChange\u001b[39m\u001b[34m(amount, coins)\u001b[39m\n\u001b[32m     27\u001b[39m     \u001b[38;5;28;01mreturn\u001b[39;00m [math.inf, []]\n\u001b[32m     29\u001b[39m use_it = giveChange(amount-coins[-\u001b[32m1\u001b[39m], coins)\n\u001b[32m---> \u001b[39m\u001b[32m30\u001b[39m lose_it = \u001b[43mgiveChange\u001b[49m\u001b[43m(\u001b[49m\u001b[43mamount\u001b[49m\u001b[43m,\u001b[49m\u001b[43m \u001b[49m\u001b[43mcoins\u001b[49m\u001b[43m[\u001b[49m\u001b[43m:\u001b[49m\u001b[43m-\u001b[49m\u001b[32;43m1\u001b[39;49m\u001b[43m]\u001b[49m\u001b[43m)\u001b[49m\n\u001b[32m     32\u001b[39m use_count = \u001b[32m1\u001b[39m + use_it[\u001b[32m0\u001b[39m]\n\u001b[32m     33\u001b[39m lose_count = lose_it[\u001b[32m0\u001b[39m]\n",
      "\u001b[36mCell\u001b[39m\u001b[36m \u001b[39m\u001b[32mIn[15]\u001b[39m\u001b[32m, line 29\u001b[39m, in \u001b[36mgiveChange\u001b[39m\u001b[34m(amount, coins)\u001b[39m\n\u001b[32m     26\u001b[39m \u001b[38;5;28;01mif\u001b[39;00m amount < \u001b[32m0\u001b[39m \u001b[38;5;129;01mor\u001b[39;00m \u001b[38;5;129;01mnot\u001b[39;00m coins:\n\u001b[32m     27\u001b[39m     \u001b[38;5;28;01mreturn\u001b[39;00m [math.inf, []]\n\u001b[32m---> \u001b[39m\u001b[32m29\u001b[39m use_it = \u001b[43mgiveChange\u001b[49m\u001b[43m(\u001b[49m\u001b[43mamount\u001b[49m\u001b[43m-\u001b[49m\u001b[43mcoins\u001b[49m\u001b[43m[\u001b[49m\u001b[43m-\u001b[49m\u001b[32;43m1\u001b[39;49m\u001b[43m]\u001b[49m\u001b[43m,\u001b[49m\u001b[43m \u001b[49m\u001b[43mcoins\u001b[49m\u001b[43m)\u001b[49m\n\u001b[32m     30\u001b[39m lose_it = giveChange(amount, coins[:-\u001b[32m1\u001b[39m])\n\u001b[32m     32\u001b[39m use_count = \u001b[32m1\u001b[39m + use_it[\u001b[32m0\u001b[39m]\n",
      "\u001b[36mCell\u001b[39m\u001b[36m \u001b[39m\u001b[32mIn[15]\u001b[39m\u001b[32m, line 30\u001b[39m, in \u001b[36mgiveChange\u001b[39m\u001b[34m(amount, coins)\u001b[39m\n\u001b[32m     27\u001b[39m     \u001b[38;5;28;01mreturn\u001b[39;00m [math.inf, []]\n\u001b[32m     29\u001b[39m use_it = giveChange(amount-coins[-\u001b[32m1\u001b[39m], coins)\n\u001b[32m---> \u001b[39m\u001b[32m30\u001b[39m lose_it = \u001b[43mgiveChange\u001b[49m\u001b[43m(\u001b[49m\u001b[43mamount\u001b[49m\u001b[43m,\u001b[49m\u001b[43m \u001b[49m\u001b[43mcoins\u001b[49m\u001b[43m[\u001b[49m\u001b[43m:\u001b[49m\u001b[43m-\u001b[49m\u001b[32;43m1\u001b[39;49m\u001b[43m]\u001b[49m\u001b[43m)\u001b[49m\n\u001b[32m     32\u001b[39m use_count = \u001b[32m1\u001b[39m + use_it[\u001b[32m0\u001b[39m]\n\u001b[32m     33\u001b[39m lose_count = lose_it[\u001b[32m0\u001b[39m]\n",
      "\u001b[36mCell\u001b[39m\u001b[36m \u001b[39m\u001b[32mIn[15]\u001b[39m\u001b[32m, line 29\u001b[39m, in \u001b[36mgiveChange\u001b[39m\u001b[34m(amount, coins)\u001b[39m\n\u001b[32m     26\u001b[39m \u001b[38;5;28;01mif\u001b[39;00m amount < \u001b[32m0\u001b[39m \u001b[38;5;129;01mor\u001b[39;00m \u001b[38;5;129;01mnot\u001b[39;00m coins:\n\u001b[32m     27\u001b[39m     \u001b[38;5;28;01mreturn\u001b[39;00m [math.inf, []]\n\u001b[32m---> \u001b[39m\u001b[32m29\u001b[39m use_it = \u001b[43mgiveChange\u001b[49m\u001b[43m(\u001b[49m\u001b[43mamount\u001b[49m\u001b[43m-\u001b[49m\u001b[43mcoins\u001b[49m\u001b[43m[\u001b[49m\u001b[43m-\u001b[49m\u001b[32;43m1\u001b[39;49m\u001b[43m]\u001b[49m\u001b[43m,\u001b[49m\u001b[43m \u001b[49m\u001b[43mcoins\u001b[49m\u001b[43m)\u001b[49m\n\u001b[32m     30\u001b[39m lose_it = giveChange(amount, coins[:-\u001b[32m1\u001b[39m])\n\u001b[32m     32\u001b[39m use_count = \u001b[32m1\u001b[39m + use_it[\u001b[32m0\u001b[39m]\n",
      "    \u001b[31m[... skipping similar frames: giveChange at line 29 (1 times), giveChange at line 30 (1 times)]\u001b[39m\n",
      "\u001b[36mCell\u001b[39m\u001b[36m \u001b[39m\u001b[32mIn[15]\u001b[39m\u001b[32m, line 30\u001b[39m, in \u001b[36mgiveChange\u001b[39m\u001b[34m(amount, coins)\u001b[39m\n\u001b[32m     27\u001b[39m     \u001b[38;5;28;01mreturn\u001b[39;00m [math.inf, []]\n\u001b[32m     29\u001b[39m use_it = giveChange(amount-coins[-\u001b[32m1\u001b[39m], coins)\n\u001b[32m---> \u001b[39m\u001b[32m30\u001b[39m lose_it = \u001b[43mgiveChange\u001b[49m\u001b[43m(\u001b[49m\u001b[43mamount\u001b[49m\u001b[43m,\u001b[49m\u001b[43m \u001b[49m\u001b[43mcoins\u001b[49m\u001b[43m[\u001b[49m\u001b[43m:\u001b[49m\u001b[43m-\u001b[49m\u001b[32;43m1\u001b[39;49m\u001b[43m]\u001b[49m\u001b[43m)\u001b[49m\n\u001b[32m     32\u001b[39m use_count = \u001b[32m1\u001b[39m + use_it[\u001b[32m0\u001b[39m]\n\u001b[32m     33\u001b[39m lose_count = lose_it[\u001b[32m0\u001b[39m]\n",
      "\u001b[36mCell\u001b[39m\u001b[36m \u001b[39m\u001b[32mIn[15]\u001b[39m\u001b[32m, line 29\u001b[39m, in \u001b[36mgiveChange\u001b[39m\u001b[34m(amount, coins)\u001b[39m\n\u001b[32m     26\u001b[39m \u001b[38;5;28;01mif\u001b[39;00m amount < \u001b[32m0\u001b[39m \u001b[38;5;129;01mor\u001b[39;00m \u001b[38;5;129;01mnot\u001b[39;00m coins:\n\u001b[32m     27\u001b[39m     \u001b[38;5;28;01mreturn\u001b[39;00m [math.inf, []]\n\u001b[32m---> \u001b[39m\u001b[32m29\u001b[39m use_it = \u001b[43mgiveChange\u001b[49m\u001b[43m(\u001b[49m\u001b[43mamount\u001b[49m\u001b[43m-\u001b[49m\u001b[43mcoins\u001b[49m\u001b[43m[\u001b[49m\u001b[43m-\u001b[49m\u001b[32;43m1\u001b[39;49m\u001b[43m]\u001b[49m\u001b[43m,\u001b[49m\u001b[43m \u001b[49m\u001b[43mcoins\u001b[49m\u001b[43m)\u001b[49m\n\u001b[32m     30\u001b[39m lose_it = giveChange(amount, coins[:-\u001b[32m1\u001b[39m])\n\u001b[32m     32\u001b[39m use_count = \u001b[32m1\u001b[39m + use_it[\u001b[32m0\u001b[39m]\n",
      "\u001b[36mCell\u001b[39m\u001b[36m \u001b[39m\u001b[32mIn[15]\u001b[39m\u001b[32m, line 35\u001b[39m, in \u001b[36mgiveChange\u001b[39m\u001b[34m(amount, coins)\u001b[39m\n\u001b[32m     32\u001b[39m use_count = \u001b[32m1\u001b[39m + use_it[\u001b[32m0\u001b[39m]\n\u001b[32m     33\u001b[39m lose_count = lose_it[\u001b[32m0\u001b[39m]\n\u001b[32m---> \u001b[39m\u001b[32m35\u001b[39m \u001b[38;5;28;01mreturn\u001b[39;00m [use_count, \u001b[43muse_it\u001b[49m\u001b[43m[\u001b[49m\u001b[32;43m1\u001b[39;49m\u001b[43m]\u001b[49m\u001b[43m.\u001b[49m\u001b[43mappend\u001b[49m(coins[-\u001b[32m1\u001b[39m])] \u001b[38;5;28;01mif\u001b[39;00m use_count < lose_count \u001b[38;5;28;01melse\u001b[39;00m [lose_count, lose_it[\u001b[32m1\u001b[39m]]\n",
      "\u001b[31mAttributeError\u001b[39m: 'NoneType' object has no attribute 'append'"
     ]
    }
   ],
   "source": [
    "giveChange(48, [1, 5, 10, 25, 50])"
   ]
  },
  {
   "cell_type": "code",
   "execution_count": 12,
   "id": "a759d456",
   "metadata": {},
   "outputs": [
    {
     "data": {
      "text/plain": [
       "[2, [24, 24]]"
      ]
     },
     "execution_count": 12,
     "metadata": {},
     "output_type": "execute_result"
    }
   ],
   "source": [
    "giveChange(48, [1, 7, 24, 42])"
   ]
  },
  {
   "cell_type": "code",
   "execution_count": 13,
   "id": "43dd3ce7",
   "metadata": {},
   "outputs": [
    {
     "data": {
      "text/plain": [
       "[3, [3, 16, 16]]"
      ]
     },
     "execution_count": 13,
     "metadata": {},
     "output_type": "execute_result"
    }
   ],
   "source": [
    "giveChange(35, [1, 3, 16, 30, 50])"
   ]
  },
  {
   "cell_type": "code",
   "execution_count": 14,
   "id": "005d864a",
   "metadata": {},
   "outputs": [
    {
     "data": {
      "text/plain": [
       "[inf, []]"
      ]
     },
     "execution_count": 14,
     "metadata": {},
     "output_type": "execute_result"
    }
   ],
   "source": [
    "giveChange(6, [4, 5, 9])"
   ]
  }
 ],
 "metadata": {
  "kernelspec": {
   "display_name": "si507",
   "language": "python",
   "name": "python3"
  },
  "language_info": {
   "codemirror_mode": {
    "name": "ipython",
    "version": 3
   },
   "file_extension": ".py",
   "mimetype": "text/x-python",
   "name": "python",
   "nbconvert_exporter": "python",
   "pygments_lexer": "ipython3",
   "version": "3.13.5"
  }
 },
 "nbformat": 4,
 "nbformat_minor": 5
}
